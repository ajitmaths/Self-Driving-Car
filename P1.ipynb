{
 "cells": [
  {
   "cell_type": "markdown",
   "metadata": {},
   "source": [
    "## Project: **Finding Lane Lines on the Road** \n",
    "***\n",
    "In this project, I used Python and OpenCV to find lane lines in the images and video included as part of the repository.\n",
    "\n",
    "The following pipeline is used:\n",
    "1. Color Selection and Gray Scale Conversions\n",
    "2. Gaussian Blur\n",
    "3. Canny Edge Detection\n",
    "4. Probabilistic Hough Transform Line Detection \n",
    "5. Averaging and Extrapolating Lines\n",
    "6. Weighted Image"
   ]
  },
  {
   "cell_type": "markdown",
   "metadata": {},
   "source": [
    "## Import Packages"
   ]
  },
  {
   "cell_type": "code",
   "execution_count": 15,
   "metadata": {
    "collapsed": true
   },
   "outputs": [],
   "source": [
    "#importing some useful packages\n",
    "import matplotlib.pyplot as plt\n",
    "import matplotlib.image as mpimg\n",
    "import numpy as np\n",
    "import cv2\n",
    "import math\n",
    "import os\n",
    "import pathlib\n",
    "%matplotlib inline"
   ]
  },
  {
   "cell_type": "markdown",
   "metadata": {},
   "source": [
    "## Lane Detection Pipeline"
   ]
  },
  {
   "cell_type": "markdown",
   "metadata": {},
   "source": [
    "**OpenCV functions that are used in this project are:**\n",
    "\n",
    "`cv2.inRange()` for color selection  \n",
    "`cv2.fillPoly()` for regions selection  \n",
    "`cv2.line()` to draw lines on an image given endpoints  \n",
    "`cv2.addWeighted()` to coadd / overlay two images\n",
    "`cv2.cvtColor()` to grayscale or change color\n",
    "`cv2.imwrite()` to output images to file  \n",
    "`cv2.bitwise_and()` to apply a mask to an image\n",
    "`cv2.bitwise_or()` to ovelay the yellow and white mask\n",
    "`cv2.Canny()` to apply the Canny transform\n",
    "`cv2.GaussianBlur`to apply a Gaussian Noise kernel\n",
    "`cv2.HoughLinesP` to apply a Probabilistic Hough Transform"
   ]
  },
  {
   "cell_type": "markdown",
   "metadata": {},
   "source": [
    "## Helper Functions"
   ]
  },
  {
   "cell_type": "code",
   "execution_count": 16,
   "metadata": {
    "collapsed": true
   },
   "outputs": [],
   "source": [
    "def convert_hls(image):\n",
    "    \"\"\"Applies the HLS transform\n",
    "    This will return an image with only one color channel\n",
    "    but NOTE: to see the returned image as grayscale\n",
    "    (assuming your grayscaled image is called 'gray')\n",
    "    you should call plt.imshow(gray, cmap='gray')\"\"\"\n",
    "    return cv2.cvtColor(image, cv2.COLOR_RGB2HLS)\n",
    "\n",
    "def select_white_yellow(image):\n",
    "    converted = convert_hls(image)\n",
    "    # white color mask\n",
    "    lower = np.uint8([  0, 200,   0])\n",
    "    upper = np.uint8([255, 255, 255])\n",
    "    white_mask = cv2.inRange(converted, lower, upper)\n",
    "    # yellow color mask\n",
    "    lower = np.uint8([ 10,   0, 100])\n",
    "    upper = np.uint8([ 40, 255, 255])\n",
    "    yellow_mask = cv2.inRange(converted, lower, upper)\n",
    "    # combine the mask\n",
    "    mask = cv2.bitwise_or(white_mask, yellow_mask)\n",
    "    return cv2.bitwise_and(image, image, mask = mask)\n",
    "\n",
    "\n",
    "def grayscale(img):\n",
    "    \"\"\"Applies the Grayscale transform\n",
    "    This will return an image with only one color channel\n",
    "    but NOTE: to see the returned image as grayscale\n",
    "    (assuming your grayscaled image is called 'gray')\n",
    "    you should call plt.imshow(gray, cmap='gray')\"\"\"\n",
    "    return cv2.cvtColor(img, cv2.COLOR_RGB2GRAY) # Or use BGR2GRAY if you read an image with cv2.imread()\n",
    "    \n",
    "def canny(img, low_threshold, high_threshold):\n",
    "    \"\"\"Applies the Canny transform\"\"\"\n",
    "    return cv2.Canny(img, low_threshold, high_threshold)\n",
    "\n",
    "def gaussian_blur(img, kernel_size):\n",
    "    \"\"\"Applies a Gaussian Noise kernel\"\"\"\n",
    "    return cv2.GaussianBlur(img, (kernel_size, kernel_size), 0)\n",
    "\n",
    "def region_of_interest(img, vertices):\n",
    "    \"\"\"\n",
    "    Applies an image mask.\n",
    "    Only keeps the region of the image defined by the polygon\n",
    "    formed from `vertices`. The rest of the image is set to black.\n",
    "    \"\"\"\n",
    "    #defining a blank mask to start with\n",
    "    mask = np.zeros_like(img)   \n",
    "\n",
    "    #defining a 3 channel or 1 channel color to fill the mask with depending on the input image\n",
    "    if len(img.shape) > 2:\n",
    "        channel_count = img.shape[2]  # i.e. 3 or 4 depending on your image\n",
    "        ignore_mask_color = (255,) * channel_count\n",
    "    else:\n",
    "        ignore_mask_color = 255\n",
    "        \n",
    "    #filling pixels inside the polygon defined by \"vertices\" with the fill color    \n",
    "    cv2.fillPoly(mask, vertices, ignore_mask_color)\n",
    "\n",
    "    #returning the image only where mask pixels are nonzero\n",
    "    masked_image = cv2.bitwise_and(img, mask)\n",
    "    return masked_image\n",
    "\n",
    "\n",
    "def draw_lines(img, lines, color=[255,0,0], thickness=6):\n",
    "    \"\"\"\n",
    "    This is the function used  to average/extrapolate the line segments you \n",
    "    detect to map out the full extent of the lane (going from the result shown in \n",
    "    raw-lines-example.mp4 to that shown in P1_example.mp4).  \n",
    "    \n",
    "    This achived by  separating line segments by their slope ((y2-y1)/(x2-x1)) to \n",
    "    decide which segments are part of the left line vs. the right line.  Then, you\n",
    "    average the position of each of the lines and extrapolate to the top and bottom \n",
    "    of the lane.\n",
    "    \n",
    "    This function draws `lines` with `color` and `thickness`.    \n",
    "    Lines are drawn on the image inplace (mutates the image).\n",
    "    If you want to make the lines semi-transparent, think about combining\n",
    "    this function with the weighted_img() function below\n",
    "    \"\"\"\n",
    "    right_slopes = []\n",
    "    right_intercepts = []\n",
    "    left_slopes = []\n",
    "    left_intercepts = []\n",
    "    left_points_x = []\n",
    "    left_points_y = []\n",
    "    right_points_x = []\n",
    "    right_points_y = []\n",
    "    \n",
    "    y_max = img.shape[0]\n",
    "    y_min = img.shape[0]\n",
    "    \n",
    "    for line in lines:\n",
    "        for x1,y1,x2,y2 in line:\n",
    "            if x2==x1:\n",
    "                continue # ignore a vertical line\n",
    "            slope = (y2-y1)/(x2-x1)\n",
    "\n",
    "            if slope < 0.0 and slope > -math.inf:\n",
    "                left_slopes.append(slope) # left line\n",
    "                left_points_x.append(x1)\n",
    "                left_points_x.append(x2)\n",
    "                left_points_y.append(y1)\n",
    "                left_points_y.append(y2)\n",
    "                left_intercepts.append(y1 - slope*x1)\n",
    "            \n",
    "            if slope > 0.0 and slope < math.inf:\n",
    "                right_slopes.append(slope) # right line\n",
    "                right_points_x.append(x1)\n",
    "                right_points_x.append(x2)\n",
    "                right_points_y.append(y1)\n",
    "                right_points_y.append(y2)\n",
    "                right_intercepts.append(y1 - slope*x1)\n",
    "            \n",
    "            y_min = min(y1,y2,y_min)\n",
    "    \n",
    "    if len(left_slopes) > 0:\n",
    "        left_slope = np.mean(left_slopes)\n",
    "        left_intercept = np.mean(left_intercepts)\n",
    "        x_min_left = int((y_min - left_intercept)/left_slope) \n",
    "        x_max_left = int((y_max - left_intercept)/left_slope)\n",
    "        cv2.line(img, (x_min_left, y_min), (x_max_left, y_max), [255, 0, 0], 8)\n",
    "    \n",
    "    if len(right_slopes) > 0:\n",
    "        right_slope = np.mean(right_slopes)\n",
    "        right_intercept = np.mean(right_intercepts)\n",
    "        x_min_right = int((y_min - right_intercept)/right_slope) \n",
    "        x_max_right = int((y_max - right_intercept)/right_slope)\n",
    "        cv2.line(img, (x_min_right, y_min), (x_max_right, y_max), [255, 0, 0], 8)\n",
    "\n",
    "\n",
    "def hough_lines(img, rho, theta, threshold, min_line_len, max_line_gap):\n",
    "    \"\"\"\n",
    "    `img` should be the output of a Canny transform.       \n",
    "    Returns an image with hough lines drawn.\n",
    "    \"\"\"\n",
    "    lines = cv2.HoughLinesP(img, rho, theta, threshold, np.array([]), minLineLength=min_line_len, maxLineGap=max_line_gap)\n",
    "    line_img = np.zeros((img.shape[0], img.shape[1], 3), dtype=np.uint8)\n",
    "    draw_lines(line_img, lines)\n",
    "    return line_img\n",
    "\n",
    "# Python 3 has support for cool math symbols.\n",
    "def weighted_img(img, initial_img, α=0.8, β=1., λ=0.):\n",
    "    \"\"\"\n",
    "    `img` is the output of the hough_lines(), An image with lines drawn on it.\n",
    "    Should be a blank image (all black) with lines drawn on it.\n",
    "    `initial_img` should be the image before any processing.\n",
    "    The result image is computed as follows:\n",
    "    initial_img * α + img * β + λ\n",
    "    NOTE: initial_img and img must be the same shape!\n",
    "    \"\"\"\n",
    "    return cv2.addWeighted(initial_img, α, img, β, λ)"
   ]
  },
  {
   "cell_type": "markdown",
   "metadata": {},
   "source": [
    "## Lane Finding Pipeline for Images\n",
    "\n"
   ]
  },
  {
   "cell_type": "markdown",
   "metadata": {},
   "source": [
    "Below is the pipeline for all the  test_images. Make copies into the `test_images_output` directory, and you can use the images in your writeup report."
   ]
  },
  {
   "cell_type": "code",
   "execution_count": 17,
   "metadata": {
    "collapsed": true
   },
   "outputs": [],
   "source": [
    "# Pipeline that will draw lane lines on the test_images\n",
    "# then save them to the test_images_output directory.\n",
    "for idx, image_name in enumerate(os.listdir('test_images/')):\n",
    "    if (idx ==0): # skip the first file .ipynb_checkpoints\n",
    "        continue\n",
    "    image = mpimg.imread('test_images/' + image_name)\n",
    "\n",
    "    imshape = image.shape\n",
    "\n",
    "    # Images are converted from RGB to HSL color space. This way both the white and yellow \n",
    "    # lines are clearly recognizable\n",
    "    hls = select_white_yellow(image)\n",
    "\n",
    "    # Define a kernel size and apply Gaussian smoothing\n",
    "    kernel_size = 5\n",
    "    blur_gray = gaussian_blur(hls, kernel_size)\n",
    "\n",
    "    # Define our parameters for Canny and apply\n",
    "    low_threshold = 50\n",
    "    high_threshold = 150\n",
    "    edges = canny(blur_gray, low_threshold, high_threshold)\n",
    "\n",
    "    # Defining a four sided polygon to mask\n",
    "    vertices = np.array([[(0,imshape[0]),(450, 320),(490, 320),(imshape[1], 540),(imshape[1],imshape[0])]], dtype=np.int32)\n",
    "    masked_edges=region_of_interest(edges, vertices)\n",
    "\n",
    "    \n",
    "    rho = 1               # distance resolution in pixels of the Hough grid\n",
    "    theta = np.pi/180     # angular resolution in radians of the Hough grid\n",
    "    threshold = 15        # minimum number of votes (intersections in Hough grid cell)\n",
    "    min_line_length = 30  #minimum number of pixels making up a line\n",
    "    max_line_gap = 10 #20 # maximum gap in pixels between connectable line segments\n",
    "    \n",
    "    #Run Hough on edge detected image\n",
    "    line_image = hough_lines(masked_edges, rho, theta, threshold, min_line_length, max_line_gap)\n",
    "\n",
    "\n",
    "    # Draw the lines on the original image\n",
    "    lines_edges = weighted_img(line_image, image, 0.8, 1, 0)\n",
    "\n",
    "    #save the frame\n",
    "    pathlib.Path('test_images_output').mkdir(parents=True, exist_ok=True)\n",
    "    mpimg.imsave('test_images_output/' + os.path.splitext(image_name)[0] + \"_lines_edge.jpg\", lines_edges)"
   ]
  },
  {
   "cell_type": "markdown",
   "metadata": {},
   "source": [
    "## Lane findining Pipelines on Videos"
   ]
  },
  {
   "cell_type": "code",
   "execution_count": 18,
   "metadata": {
    "collapsed": true
   },
   "outputs": [],
   "source": [
    "# Import everything needed to edit/save/watch video clips\n",
    "from moviepy.editor import VideoFileClip\n",
    "from IPython.display import HTML\n",
    "import pathlib\n",
    "\n",
    "pathlib.Path('test_videos_output').mkdir(parents=True, exist_ok=True)"
   ]
  },
  {
   "cell_type": "code",
   "execution_count": 19,
   "metadata": {
    "collapsed": true
   },
   "outputs": [],
   "source": [
    "def process_image(image):\n",
    "    # NOTE: The output you return should be a color image (3 channel) for processing video below\n",
    "    # TODO: put your pipeline here,\n",
    "    # you should return the final output (image where lines are drawn on lanes)\n",
    "        \n",
    "    hls = select_white_yellow(image)\n",
    "    \n",
    "    gray = grayscale(hls) \n",
    "\n",
    "    # Define a kernel size and apply Gaussian smoothing\n",
    "    kernel_size = 19\n",
    "    blur_gray = gaussian_blur(gray, kernel_size)\n",
    "\n",
    "    # Define our parameters for Canny and apply\n",
    "    low_threshold = 50\n",
    "    high_threshold = 150\n",
    "    edges = canny(blur_gray, low_threshold, high_threshold)\n",
    "\n",
    "    # Defining a four sided polygon to mask\n",
    "    vertices = np.array([[(0,imshape[0]),(430, 320),(510, 320),(imshape[1], 540),(imshape[1],imshape[0])]], dtype=np.int32)\n",
    "    masked_edges=region_of_interest(edges, vertices)\n",
    "\n",
    "    rho = 1 # distance resolution in pixels of the Hough grid\n",
    "    theta = np.pi/180 # angular resolution in radians of the Hough grid\n",
    "    threshold = 2         # minimum number of votes (intersections in Hough grid cell)\n",
    "    min_line_length = 30  #minimum number of pixels making up a line\n",
    "    max_line_gap = 10     # maximum gap in pixels between connectable line segments\n",
    "    # Run Hough on edge detected image\n",
    "    # Output \"lines\" is an array containing endpoints of detected line segments\n",
    "    line_image = hough_lines(masked_edges, rho, theta, threshold, min_line_length, max_line_gap)\n",
    "\n",
    "    # Draw the lines on the original image\n",
    "    lines_edges = weighted_img(line_image, image, 0.8, 1, 0)\n",
    "\n",
    "    return lines_edges"
   ]
  },
  {
   "cell_type": "markdown",
   "metadata": {},
   "source": [
    "Let's try the one with the solid white lane on the right first ..."
   ]
  },
  {
   "cell_type": "code",
   "execution_count": 20,
   "metadata": {
    "scrolled": false
   },
   "outputs": [
    {
     "name": "stdout",
     "output_type": "stream",
     "text": [
      "[MoviePy] >>>> Building video test_videos_output/solidWhiteRight.mp4\n",
      "[MoviePy] Writing video test_videos_output/solidWhiteRight.mp4\n"
     ]
    },
    {
     "name": "stderr",
     "output_type": "stream",
     "text": [
      "\n",
      "  0%|          | 0/222 [00:00<?, ?it/s]\u001b[A\n",
      "  3%|▎         | 6/222 [00:00<00:04, 53.49it/s]\u001b[A\n",
      "  5%|▌         | 12/222 [00:00<00:03, 54.27it/s]\u001b[A\n",
      "  8%|▊         | 18/222 [00:00<00:03, 53.69it/s]\u001b[A\n",
      " 11%|█         | 24/222 [00:00<00:03, 53.99it/s]\u001b[A\n",
      " 14%|█▎        | 30/222 [00:00<00:03, 55.45it/s]\u001b[A\n",
      " 16%|█▌        | 36/222 [00:00<00:03, 56.05it/s]\u001b[A\n",
      " 18%|█▊        | 41/222 [00:00<00:03, 51.70it/s]\u001b[A\n",
      " 21%|██        | 47/222 [00:00<00:03, 50.29it/s]\u001b[A\n",
      " 23%|██▎       | 52/222 [00:01<00:03, 47.16it/s]\u001b[A\n",
      " 26%|██▌       | 57/222 [00:01<00:03, 44.50it/s]\u001b[A\n",
      " 28%|██▊       | 62/222 [00:01<00:03, 43.87it/s]\u001b[A\n",
      " 30%|███       | 67/222 [00:01<00:03, 44.80it/s]\u001b[A\n",
      " 32%|███▏      | 72/222 [00:01<00:03, 45.13it/s]\u001b[A\n",
      " 35%|███▌      | 78/222 [00:01<00:03, 46.81it/s]\u001b[A\n",
      " 37%|███▋      | 83/222 [00:01<00:02, 47.56it/s]\u001b[A\n",
      " 40%|████      | 89/222 [00:01<00:02, 48.58it/s]\u001b[A\n",
      " 42%|████▏     | 94/222 [00:01<00:02, 47.85it/s]\u001b[A\n",
      " 45%|████▍     | 99/222 [00:02<00:02, 48.42it/s]\u001b[A\n",
      " 47%|████▋     | 104/222 [00:02<00:02, 45.70it/s]\u001b[A\n",
      " 49%|████▉     | 109/222 [00:02<00:02, 44.31it/s]\u001b[A\n",
      " 51%|█████▏    | 114/222 [00:02<00:02, 42.62it/s]\u001b[A\n",
      " 54%|█████▎    | 119/222 [00:02<00:02, 42.98it/s]\u001b[A\n",
      " 56%|█████▌    | 124/222 [00:02<00:02, 44.13it/s]\u001b[A\n",
      " 59%|█████▊    | 130/222 [00:02<00:02, 45.90it/s]\u001b[A\n",
      " 61%|██████    | 135/222 [00:02<00:01, 45.52it/s]\u001b[A\n",
      " 63%|██████▎   | 140/222 [00:02<00:01, 45.24it/s]\u001b[A\n",
      " 65%|██████▌   | 145/222 [00:03<00:01, 46.49it/s]\u001b[A\n",
      " 68%|██████▊   | 151/222 [00:03<00:01, 48.63it/s]\u001b[A\n",
      " 71%|███████   | 157/222 [00:03<00:01, 50.06it/s]\u001b[A\n",
      " 73%|███████▎  | 163/222 [00:03<00:01, 50.29it/s]\u001b[A\n",
      " 76%|███████▌  | 169/222 [00:03<00:01, 48.74it/s]\u001b[A\n",
      " 78%|███████▊  | 174/222 [00:03<00:01, 47.60it/s]\u001b[A\n",
      " 81%|████████  | 179/222 [00:03<00:00, 47.04it/s]\u001b[A\n",
      " 83%|████████▎ | 184/222 [00:03<00:00, 45.44it/s]\u001b[A\n",
      " 85%|████████▌ | 189/222 [00:03<00:00, 45.25it/s]\u001b[A\n",
      " 88%|████████▊ | 195/222 [00:04<00:00, 47.14it/s]\u001b[A\n",
      " 90%|█████████ | 200/222 [00:04<00:00, 47.95it/s]\u001b[A\n",
      " 92%|█████████▏| 205/222 [00:04<00:00, 47.05it/s]\u001b[A\n",
      " 95%|█████████▍| 210/222 [00:04<00:00, 46.37it/s]\u001b[A\n",
      " 97%|█████████▋| 216/222 [00:04<00:00, 48.15it/s]\u001b[A\n",
      "100%|█████████▉| 221/222 [00:04<00:00, 48.31it/s]\u001b[A\n",
      "\u001b[A"
     ]
    },
    {
     "name": "stdout",
     "output_type": "stream",
     "text": [
      "[MoviePy] Done.\n",
      "[MoviePy] >>>> Video ready: test_videos_output/solidWhiteRight.mp4 \n",
      "\n",
      "CPU times: user 5.84 s, sys: 980 ms, total: 6.82 s\n",
      "Wall time: 5.01 s\n"
     ]
    }
   ],
   "source": [
    "white_output = 'test_videos_output/solidWhiteRight.mp4'\n",
    "## To speed up the testing process you may want to try your pipeline on a shorter subclip of the video\n",
    "## To do so add .subclip(start_second,end_second) to the end of the line below\n",
    "## Where start_second and end_second are integer values representing the start and end of the subclip\n",
    "## You may also uncomment the following line for a subclip of the first 5 seconds\n",
    "#clip1 = VideoFileClip(\"test_videos/solidWhiteRight.mp4\").subclip(0,1)\n",
    "\n",
    "clip1 = VideoFileClip(\"test_videos/solidWhiteRight.mp4\")\n",
    "white_clip = clip1.fl_image(process_image) #NOTE: this function expects color images!!\n",
    "%time white_clip.write_videofile(white_output, audio=False)"
   ]
  },
  {
   "cell_type": "markdown",
   "metadata": {},
   "source": [
    "Play the video inline, or if you prefer find the video in your filesystem (should be in the same directory) and play it in your video player of choice."
   ]
  },
  {
   "cell_type": "code",
   "execution_count": 21,
   "metadata": {},
   "outputs": [
    {
     "data": {
      "text/html": [
       "\n",
       "<video width=\"960\" height=\"540\" controls>\n",
       "  <source src=\"test_videos_output/solidWhiteRight.mp4\">\n",
       "</video>\n"
      ],
      "text/plain": [
       "<IPython.core.display.HTML object>"
      ]
     },
     "execution_count": 21,
     "metadata": {},
     "output_type": "execute_result"
    }
   ],
   "source": [
    "HTML(\"\"\"\n",
    "<video width=\"960\" height=\"540\" controls>\n",
    "  <source src=\"{0}\">\n",
    "</video>\n",
    "\"\"\".format(white_output))"
   ]
  },
  {
   "cell_type": "code",
   "execution_count": 22,
   "metadata": {},
   "outputs": [
    {
     "name": "stdout",
     "output_type": "stream",
     "text": [
      "[MoviePy] >>>> Building video test_videos_output/solidYellowLeft.mp4\n",
      "[MoviePy] Writing video test_videos_output/solidYellowLeft.mp4\n"
     ]
    },
    {
     "name": "stderr",
     "output_type": "stream",
     "text": [
      "\n",
      "  0%|          | 0/682 [00:00<?, ?it/s]\u001b[A\n",
      "  1%|          | 6/682 [00:00<00:12, 55.18it/s]\u001b[A\n",
      "  2%|▏         | 13/682 [00:00<00:11, 57.57it/s]\u001b[A\n",
      "  3%|▎         | 20/682 [00:00<00:11, 58.78it/s]\u001b[A\n",
      "  4%|▍         | 27/682 [00:00<00:11, 59.35it/s]\u001b[A\n",
      "  5%|▍         | 33/682 [00:00<00:11, 58.96it/s]\u001b[A\n",
      "  6%|▌         | 39/682 [00:00<00:11, 57.50it/s]\u001b[A\n",
      "  7%|▋         | 45/682 [00:00<00:11, 55.79it/s]\u001b[A\n",
      "  7%|▋         | 51/682 [00:00<00:11, 54.61it/s]\u001b[A\n",
      "  8%|▊         | 57/682 [00:01<00:11, 53.87it/s]\u001b[A\n",
      "  9%|▉         | 63/682 [00:01<00:11, 52.85it/s]\u001b[A\n",
      " 10%|█         | 69/682 [00:01<00:11, 51.34it/s]\u001b[A\n",
      " 11%|█         | 75/682 [00:01<00:11, 52.03it/s]\u001b[A\n",
      " 12%|█▏        | 81/682 [00:01<00:11, 51.81it/s]\u001b[A\n",
      " 13%|█▎        | 87/682 [00:01<00:11, 51.42it/s]\u001b[A\n",
      " 14%|█▎        | 93/682 [00:01<00:11, 52.28it/s]\u001b[A\n",
      " 15%|█▍        | 99/682 [00:01<00:11, 49.20it/s]\u001b[A\n",
      " 15%|█▌        | 104/682 [00:01<00:12, 47.62it/s]\u001b[A\n",
      " 16%|█▌        | 110/682 [00:02<00:11, 49.58it/s]\u001b[A\n",
      " 17%|█▋        | 116/682 [00:02<00:11, 50.25it/s]\u001b[A\n",
      " 18%|█▊        | 122/682 [00:02<00:11, 50.20it/s]\u001b[A\n",
      " 19%|█▉        | 128/682 [00:02<00:10, 50.73it/s]\u001b[A\n",
      " 20%|█▉        | 134/682 [00:02<00:10, 51.87it/s]\u001b[A\n",
      " 21%|██        | 140/682 [00:02<00:10, 51.93it/s]\u001b[A\n",
      " 21%|██▏       | 146/682 [00:02<00:10, 51.84it/s]\u001b[A\n",
      " 22%|██▏       | 152/682 [00:02<00:10, 49.62it/s]\u001b[A\n",
      " 23%|██▎       | 157/682 [00:03<00:11, 44.85it/s]\u001b[A\n",
      " 24%|██▍       | 162/682 [00:03<00:11, 46.24it/s]\u001b[A\n",
      " 24%|██▍       | 167/682 [00:03<00:10, 47.03it/s]\u001b[A\n",
      " 25%|██▌       | 172/682 [00:03<00:10, 47.40it/s]\u001b[A\n",
      " 26%|██▌       | 178/682 [00:03<00:10, 49.31it/s]\u001b[A\n",
      " 27%|██▋       | 184/682 [00:03<00:09, 51.90it/s]\u001b[A\n",
      " 28%|██▊       | 190/682 [00:03<00:09, 50.66it/s]\u001b[A\n",
      " 29%|██▊       | 196/682 [00:03<00:09, 52.06it/s]\u001b[A\n",
      " 30%|██▉       | 202/682 [00:03<00:09, 52.98it/s]\u001b[A\n",
      " 30%|███       | 208/682 [00:03<00:08, 53.43it/s]\u001b[A\n",
      " 31%|███▏      | 214/682 [00:04<00:08, 53.50it/s]\u001b[A\n",
      " 32%|███▏      | 220/682 [00:04<00:08, 53.45it/s]\u001b[A\n",
      " 33%|███▎      | 226/682 [00:04<00:08, 54.25it/s]\u001b[A\n",
      " 34%|███▍      | 232/682 [00:04<00:08, 54.01it/s]\u001b[A\n",
      " 35%|███▍      | 238/682 [00:04<00:08, 54.49it/s]\u001b[A\n",
      " 36%|███▌      | 244/682 [00:04<00:08, 54.09it/s]\u001b[A\n",
      " 37%|███▋      | 250/682 [00:04<00:07, 55.29it/s]\u001b[A\n",
      " 38%|███▊      | 256/682 [00:04<00:07, 55.69it/s]\u001b[A\n",
      " 38%|███▊      | 262/682 [00:04<00:07, 55.89it/s]\u001b[A\n",
      " 39%|███▉      | 268/682 [00:05<00:07, 53.42it/s]\u001b[A\n",
      " 40%|████      | 274/682 [00:05<00:07, 53.61it/s]\u001b[A\n",
      " 41%|████      | 280/682 [00:05<00:07, 54.37it/s]\u001b[A\n",
      " 42%|████▏     | 287/682 [00:05<00:06, 56.71it/s]\u001b[A\n",
      " 43%|████▎     | 293/682 [00:05<00:06, 56.83it/s]\u001b[A\n",
      " 44%|████▍     | 300/682 [00:05<00:06, 57.75it/s]\u001b[A\n",
      " 45%|████▌     | 307/682 [00:05<00:06, 58.63it/s]\u001b[A\n",
      " 46%|████▌     | 313/682 [00:05<00:06, 58.41it/s]\u001b[A\n",
      " 47%|████▋     | 319/682 [00:05<00:06, 56.75it/s]\u001b[A\n",
      " 48%|████▊     | 325/682 [00:06<00:06, 56.30it/s]\u001b[A\n",
      " 49%|████▊     | 331/682 [00:06<00:06, 56.18it/s]\u001b[A\n",
      " 49%|████▉     | 337/682 [00:06<00:06, 55.22it/s]\u001b[A\n",
      " 50%|█████     | 343/682 [00:06<00:06, 56.23it/s]\u001b[A\n",
      " 51%|█████     | 349/682 [00:06<00:05, 56.13it/s]\u001b[A\n",
      " 52%|█████▏    | 355/682 [00:06<00:06, 54.13it/s]\u001b[A\n",
      " 53%|█████▎    | 361/682 [00:06<00:06, 52.45it/s]\u001b[A\n",
      " 54%|█████▍    | 367/682 [00:06<00:06, 50.41it/s]\u001b[A\n",
      " 55%|█████▍    | 373/682 [00:07<00:06, 49.99it/s]\u001b[A\n",
      " 56%|█████▌    | 379/682 [00:07<00:05, 50.51it/s]\u001b[A\n",
      " 56%|█████▋    | 385/682 [00:07<00:05, 50.88it/s]\u001b[A\n",
      " 57%|█████▋    | 391/682 [00:07<00:05, 50.48it/s]\u001b[A\n",
      " 58%|█████▊    | 398/682 [00:07<00:05, 53.64it/s]\u001b[A\n",
      " 59%|█████▉    | 404/682 [00:07<00:05, 53.97it/s]\u001b[A\n",
      " 60%|██████    | 410/682 [00:07<00:05, 53.21it/s]\u001b[A\n",
      " 61%|██████    | 416/682 [00:07<00:05, 52.91it/s]\u001b[A\n",
      " 62%|██████▏   | 422/682 [00:07<00:04, 54.56it/s]\u001b[A\n",
      " 63%|██████▎   | 428/682 [00:08<00:04, 54.37it/s]\u001b[A\n",
      " 64%|██████▎   | 434/682 [00:08<00:04, 52.34it/s]\u001b[A\n",
      " 65%|██████▍   | 440/682 [00:08<00:04, 52.16it/s]\u001b[A\n",
      " 65%|██████▌   | 446/682 [00:08<00:04, 53.71it/s]\u001b[A\n",
      " 66%|██████▋   | 452/682 [00:08<00:04, 52.50it/s]\u001b[A\n",
      " 67%|██████▋   | 458/682 [00:08<00:04, 51.31it/s]\u001b[A\n",
      " 68%|██████▊   | 464/682 [00:08<00:04, 51.73it/s]\u001b[A\n",
      " 69%|██████▉   | 470/682 [00:08<00:04, 52.75it/s]\u001b[A\n",
      " 70%|██████▉   | 476/682 [00:08<00:03, 52.62it/s]\u001b[A\n",
      " 71%|███████   | 482/682 [00:09<00:03, 53.41it/s]\u001b[A\n",
      " 72%|███████▏  | 488/682 [00:09<00:03, 53.20it/s]\u001b[A\n",
      " 72%|███████▏  | 494/682 [00:09<00:03, 51.61it/s]\u001b[A\n",
      " 73%|███████▎  | 500/682 [00:09<00:03, 52.36it/s]\u001b[A\n",
      " 74%|███████▍  | 506/682 [00:09<00:03, 52.97it/s]\u001b[A\n",
      " 75%|███████▌  | 512/682 [00:09<00:03, 50.95it/s]\u001b[A\n",
      " 76%|███████▌  | 518/682 [00:09<00:03, 51.59it/s]\u001b[A\n",
      " 77%|███████▋  | 524/682 [00:09<00:03, 52.05it/s]\u001b[A\n",
      " 78%|███████▊  | 530/682 [00:09<00:02, 51.60it/s]\u001b[A\n",
      " 79%|███████▊  | 536/682 [00:10<00:02, 51.97it/s]\u001b[A\n",
      " 79%|███████▉  | 542/682 [00:10<00:02, 53.74it/s]\u001b[A\n",
      " 80%|████████  | 548/682 [00:10<00:02, 54.78it/s]\u001b[A\n",
      " 81%|████████  | 554/682 [00:10<00:02, 54.72it/s]\u001b[A\n",
      " 82%|████████▏ | 560/682 [00:10<00:02, 54.51it/s]\u001b[A\n",
      " 83%|████████▎ | 566/682 [00:10<00:02, 53.78it/s]\u001b[A\n",
      " 84%|████████▍ | 572/682 [00:10<00:02, 54.33it/s]\u001b[A\n",
      " 85%|████████▍ | 578/682 [00:10<00:01, 53.94it/s]\u001b[A\n",
      " 86%|████████▌ | 584/682 [00:11<00:01, 52.29it/s]\u001b[A\n",
      " 87%|████████▋ | 590/682 [00:11<00:01, 51.97it/s]\u001b[A\n",
      " 87%|████████▋ | 596/682 [00:11<00:01, 52.97it/s]\u001b[A\n",
      " 88%|████████▊ | 602/682 [00:11<00:01, 52.22it/s]\u001b[A\n",
      " 89%|████████▉ | 608/682 [00:11<00:01, 52.91it/s]\u001b[A\n",
      " 90%|█████████ | 614/682 [00:11<00:01, 52.44it/s]\u001b[A\n",
      " 91%|█████████ | 620/682 [00:11<00:01, 51.71it/s]\u001b[A\n",
      " 92%|█████████▏| 626/682 [00:11<00:01, 51.63it/s]\u001b[A\n",
      " 93%|█████████▎| 632/682 [00:11<00:00, 52.86it/s]\u001b[A\n",
      " 94%|█████████▎| 638/682 [00:12<00:00, 53.26it/s]\u001b[A\n",
      " 94%|█████████▍| 644/682 [00:12<00:00, 53.79it/s]\u001b[A\n",
      " 95%|█████████▌| 650/682 [00:12<00:00, 55.30it/s]\u001b[A\n",
      " 96%|█████████▌| 656/682 [00:12<00:00, 53.83it/s]\u001b[A\n",
      " 97%|█████████▋| 662/682 [00:12<00:00, 54.12it/s]\u001b[A\n",
      " 98%|█████████▊| 668/682 [00:12<00:00, 54.17it/s]\u001b[A\n",
      " 99%|█████████▉| 674/682 [00:12<00:00, 53.63it/s]\u001b[A\n",
      "100%|█████████▉| 680/682 [00:12<00:00, 53.42it/s]\u001b[A\n",
      "100%|█████████▉| 681/682 [00:12<00:00, 53.11it/s]\u001b[A"
     ]
    },
    {
     "name": "stdout",
     "output_type": "stream",
     "text": [
      "[MoviePy] Done.\n",
      "[MoviePy] >>>> Video ready: test_videos_output/solidYellowLeft.mp4 \n",
      "\n",
      "CPU times: user 17.2 s, sys: 2.96 s, total: 20.2 s\n",
      "Wall time: 13.2 s\n"
     ]
    }
   ],
   "source": [
    "yellow_output = 'test_videos_output/solidYellowLeft.mp4'\n",
    "## To speed up the testing process you may want to try your pipeline on a shorter subclip of the video\n",
    "## To do so add .subclip(start_second,end_second) to the end of the line below\n",
    "## Where start_second and end_second are integer values representing the start and end of the subclip\n",
    "## You may also uncomment the following line for a subclip of the first 5 seconds\n",
    "#clip2 = VideoFileClip('test_videos/solidYellowLeft.mp4').subclip(0,1)\n",
    "clip2 = VideoFileClip('test_videos/solidYellowLeft.mp4')\n",
    "yellow_clip = clip2.fl_image(process_image)\n",
    "%time yellow_clip.write_videofile(yellow_output, audio=False)"
   ]
  },
  {
   "cell_type": "code",
   "execution_count": 23,
   "metadata": {
    "scrolled": false
   },
   "outputs": [
    {
     "data": {
      "text/html": [
       "\n",
       "<video width=\"960\" height=\"540\" controls>\n",
       "  <source src=\"test_videos_output/solidYellowLeft.mp4\">\n",
       "</video>\n"
      ],
      "text/plain": [
       "<IPython.core.display.HTML object>"
      ]
     },
     "execution_count": 23,
     "metadata": {},
     "output_type": "execute_result"
    }
   ],
   "source": [
    "HTML(\"\"\"\n",
    "<video width=\"960\" height=\"540\" controls>\n",
    "  <source src=\"{0}\">\n",
    "</video>\n",
    "\"\"\".format(yellow_output))"
   ]
  },
  {
   "cell_type": "markdown",
   "metadata": {
    "collapsed": true
   },
   "source": [
    "## Optional Challenge"
   ]
  },
  {
   "cell_type": "code",
   "execution_count": 24,
   "metadata": {},
   "outputs": [
    {
     "name": "stdout",
     "output_type": "stream",
     "text": [
      "[MoviePy] >>>> Building video test_videos_output/challenge.mp4\n",
      "[MoviePy] Writing video test_videos_output/challenge.mp4\n"
     ]
    },
    {
     "name": "stderr",
     "output_type": "stream",
     "text": [
      "\n",
      "  0%|          | 0/126 [00:00<?, ?it/s]\u001b[A\n",
      "  2%|▏         | 3/126 [00:00<00:04, 28.53it/s]\u001b[A\n",
      "  6%|▌         | 7/126 [00:00<00:04, 29.49it/s]\u001b[A\n",
      "  8%|▊         | 10/126 [00:00<00:03, 29.62it/s]\u001b[A\n",
      " 11%|█         | 14/126 [00:00<00:03, 30.53it/s]\u001b[A\n",
      " 14%|█▍        | 18/126 [00:00<00:03, 31.06it/s]\u001b[A\n",
      " 17%|█▋        | 22/126 [00:00<00:03, 31.02it/s]\u001b[A\n",
      " 21%|██        | 26/126 [00:00<00:03, 31.34it/s]\u001b[A\n",
      " 24%|██▍       | 30/126 [00:00<00:03, 31.54it/s]\u001b[A\n",
      " 26%|██▌       | 33/126 [00:01<00:03, 30.81it/s]\u001b[A\n",
      " 29%|██▉       | 37/126 [00:01<00:02, 31.16it/s]\u001b[A\n",
      " 33%|███▎      | 41/126 [00:01<00:02, 31.21it/s]\u001b[A\n",
      " 36%|███▌      | 45/126 [00:01<00:02, 29.97it/s]\u001b[A\n",
      " 38%|███▊      | 48/126 [00:01<00:02, 29.38it/s]\u001b[A\n",
      " 41%|████▏     | 52/126 [00:01<00:02, 29.32it/s]\u001b[A\n",
      " 44%|████▎     | 55/126 [00:01<00:02, 28.89it/s]\u001b[A\n",
      " 46%|████▌     | 58/126 [00:01<00:02, 27.72it/s]\u001b[A\n",
      " 48%|████▊     | 61/126 [00:02<00:02, 27.84it/s]\u001b[A\n",
      " 51%|█████     | 64/126 [00:02<00:02, 27.53it/s]\u001b[A\n",
      " 53%|█████▎    | 67/126 [00:02<00:02, 27.12it/s]\u001b[A\n",
      " 56%|█████▌    | 70/126 [00:02<00:02, 27.77it/s]\u001b[A\n",
      " 58%|█████▊    | 73/126 [00:02<00:02, 26.23it/s]\u001b[A\n",
      " 60%|██████    | 76/126 [00:02<00:01, 26.46it/s]\u001b[A\n",
      " 63%|██████▎   | 79/126 [00:02<00:01, 26.78it/s]\u001b[A\n",
      " 65%|██████▌   | 82/126 [00:02<00:01, 27.16it/s]\u001b[A\n",
      " 67%|██████▋   | 85/126 [00:02<00:01, 27.44it/s]\u001b[A\n",
      " 71%|███████   | 89/126 [00:03<00:01, 27.30it/s]\u001b[A\n",
      " 73%|███████▎  | 92/126 [00:03<00:01, 27.71it/s]\u001b[A\n",
      " 75%|███████▌  | 95/126 [00:03<00:01, 27.28it/s]\u001b[A\n",
      " 78%|███████▊  | 98/126 [00:03<00:01, 26.93it/s]\u001b[A\n",
      " 80%|████████  | 101/126 [00:03<00:00, 26.93it/s]\u001b[A\n",
      " 83%|████████▎ | 104/126 [00:03<00:00, 27.75it/s]\u001b[A\n",
      " 85%|████████▍ | 107/126 [00:03<00:00, 27.44it/s]\u001b[A\n",
      " 87%|████████▋ | 110/126 [00:03<00:00, 27.24it/s]\u001b[A\n",
      " 90%|████████▉ | 113/126 [00:03<00:00, 27.70it/s]\u001b[A\n",
      " 92%|█████████▏| 116/126 [00:04<00:00, 27.86it/s]\u001b[A\n",
      " 94%|█████████▍| 119/126 [00:04<00:00, 27.00it/s]\u001b[A\n",
      " 97%|█████████▋| 122/126 [00:04<00:00, 26.73it/s]\u001b[A\n",
      " 99%|█████████▉| 125/126 [00:04<00:00, 26.99it/s]\u001b[A\n",
      "\u001b[A"
     ]
    },
    {
     "name": "stdout",
     "output_type": "stream",
     "text": [
      "[MoviePy] Done.\n",
      "[MoviePy] >>>> Video ready: test_videos_output/challenge.mp4 \n",
      "\n",
      "CPU times: user 5.18 s, sys: 1.21 s, total: 6.38 s\n",
      "Wall time: 5.34 s\n"
     ]
    }
   ],
   "source": [
    "challenge_output = 'test_videos_output/challenge.mp4'\n",
    "## To speed up the testing process you may want to try your pipeline on a shorter subclip of the video\n",
    "## To do so add .subclip(start_second,end_second) to the end of the line below\n",
    "## Where start_second and end_second are integer values representing the start and end of the subclip\n",
    "## You may also uncomment the following line for a subclip of the first 5 seconds\n",
    "clip3 = VideoFileClip('test_videos/challenge.mp4').subclip(0,5)\n",
    "#clip3 = VideoFileClip('test_videos/challenge.mp4')\n",
    "challenge_clip = clip3.fl_image(process_image)\n",
    "%time challenge_clip.write_videofile(challenge_output, audio=False)"
   ]
  },
  {
   "cell_type": "code",
   "execution_count": 25,
   "metadata": {},
   "outputs": [
    {
     "data": {
      "text/html": [
       "\n",
       "<video width=\"960\" height=\"540\" controls>\n",
       "  <source src=\"test_videos_output/challenge.mp4\">\n",
       "</video>\n"
      ],
      "text/plain": [
       "<IPython.core.display.HTML object>"
      ]
     },
     "execution_count": 25,
     "metadata": {},
     "output_type": "execute_result"
    }
   ],
   "source": [
    "HTML(\"\"\"\n",
    "<video width=\"960\" height=\"540\" controls>\n",
    "  <source src=\"{0}\">\n",
    "</video>\n",
    "\"\"\".format(challenge_output))"
   ]
  }
 ],
 "metadata": {
  "anaconda-cloud": {},
  "kernelspec": {
   "display_name": "Python 3",
   "language": "python",
   "name": "python3"
  },
  "language_info": {
   "codemirror_mode": {
    "name": "ipython",
    "version": 3
   },
   "file_extension": ".py",
   "mimetype": "text/x-python",
   "name": "python",
   "nbconvert_exporter": "python",
   "pygments_lexer": "ipython3",
   "version": "3.5.4"
  }
 },
 "nbformat": 4,
 "nbformat_minor": 1
}
